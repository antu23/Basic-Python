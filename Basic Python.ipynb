{
 "cells": [
  {
   "cell_type": "markdown",
   "id": "1347745f",
   "metadata": {},
   "source": [
    "# Variables"
   ]
  },
  {
   "cell_type": "markdown",
   "id": "144216f1",
   "metadata": {},
   "source": [
    "1.Write a program that swaps the values of two variables."
   ]
  },
  {
   "cell_type": "code",
   "execution_count": 1,
   "id": "7b3b90ff",
   "metadata": {},
   "outputs": [],
   "source": [
    "a=10\n",
    "b=20\n",
    "def swap_variables(a,b):\n",
    "    print(\"Before swapping: a=\",a,\"b=\",b)\n",
    "    a,b=b,a\n",
    "    print(\"After swapping:a=\",a,\"b=\",b)\n"
   ]
  },
  {
   "cell_type": "code",
   "execution_count": 2,
   "id": "e40ab78b",
   "metadata": {},
   "outputs": [
    {
     "name": "stdout",
     "output_type": "stream",
     "text": [
      "Before swapping: a= 10 b= 20\n",
      "After swapping:a= 20 b= 10\n"
     ]
    }
   ],
   "source": [
    "swap_variables(a,b)"
   ]
  },
  {
   "cell_type": "markdown",
   "id": "e8dde756",
   "metadata": {},
   "source": [
    "2.Write a program that calculates the area of a rectangle given its length and width."
   ]
  },
  {
   "cell_type": "code",
   "execution_count": 3,
   "id": "481b8e62",
   "metadata": {},
   "outputs": [],
   "source": [
    "length=10\n",
    "width=20\n",
    "def rectangle(length,width):\n",
    "    area=length*width\n",
    "    return area"
   ]
  },
  {
   "cell_type": "code",
   "execution_count": 4,
   "id": "1d517dbf",
   "metadata": {},
   "outputs": [
    {
     "name": "stdout",
     "output_type": "stream",
     "text": [
      "area of rectangle : 200\n"
     ]
    }
   ],
   "source": [
    "print(\"area of rectangle :\",rectangle(length,width))"
   ]
  },
  {
   "cell_type": "markdown",
   "id": "57b9bb8b",
   "metadata": {},
   "source": [
    "3.Write a program that converts temperature from Fahrenheit to Celsius."
   ]
  },
  {
   "cell_type": "code",
   "execution_count": 5,
   "id": "5eab7c03",
   "metadata": {},
   "outputs": [],
   "source": [
    "# Set the Fahrenheit temperature\n",
    "fahrenheit = 77\n",
    "def fahrenheit_to_celsius(fahrenheit):\n",
    "  celsius = (fahrenheit - 32) * 5/9\n",
    "  return celsius\n"
   ]
  },
  {
   "cell_type": "code",
   "execution_count": 6,
   "id": "42074ea5",
   "metadata": {},
   "outputs": [
    {
     "name": "stdout",
     "output_type": "stream",
     "text": [
      "77°F is equal to 25.00°C\n"
     ]
    }
   ],
   "source": [
    "# Convert and print the temperature in Celsius\n",
    "celsius = fahrenheit_to_celsius(fahrenheit)\n",
    "print(f\"{fahrenheit}°F is equal to {celsius:.2f}°C\")"
   ]
  },
  {
   "cell_type": "markdown",
   "id": "b7079282",
   "metadata": {},
   "source": [
    "4.Write a program that calculates the volume of a sphere given its radius."
   ]
  },
  {
   "cell_type": "code",
   "execution_count": 7,
   "id": "37e50168",
   "metadata": {},
   "outputs": [
    {
     "name": "stdout",
     "output_type": "stream",
     "text": [
      "The volume of the sphere with radius 5 is: 523.60\n"
     ]
    }
   ],
   "source": [
    "radius=5\n",
    "\n",
    "\n",
    "def calculate_sphere_volume(radius):\n",
    "    volume = (4/3) * 3.1416 * (radius ** 3)\n",
    "    return volume\n",
    "\n",
    "sphere_volume = calculate_sphere_volume(radius)\n",
    "print(f\"The volume of the sphere with radius {radius} is: {sphere_volume:.2f}\")\n"
   ]
  },
  {
   "cell_type": "markdown",
   "id": "5193a184",
   "metadata": {},
   "source": [
    "5.Write a program that finds the average of three numbers."
   ]
  },
  {
   "cell_type": "code",
   "execution_count": 8,
   "id": "af778cb7",
   "metadata": {},
   "outputs": [
    {
     "name": "stdout",
     "output_type": "stream",
     "text": [
      "The average of 10, 20, and 30 is: 20.0\n"
     ]
    }
   ],
   "source": [
    "def calculate_average(num1, num2, num3):\n",
    "    average = (num1 + num2 + num3) / 3\n",
    "    return average\n",
    "\n",
    "# Example usage\n",
    "number1 = 10\n",
    "number2 = 20\n",
    "number3 = 30\n",
    "\n",
    "avg = calculate_average(number1, number2, number3)\n",
    "print(f\"The average of {number1}, {number2}, and {number3} is: {avg}\")\n"
   ]
  },
  {
   "cell_type": "markdown",
   "id": "aede4a2c",
   "metadata": {},
   "source": [
    "# IF-ELIF-ELSE"
   ]
  },
  {
   "cell_type": "markdown",
   "id": "37e7ddc1",
   "metadata": {},
   "source": [
    "6.Write a program that determines if a number is even or odd."
   ]
  },
  {
   "cell_type": "code",
   "execution_count": 9,
   "id": "577e7209",
   "metadata": {},
   "outputs": [
    {
     "name": "stdout",
     "output_type": "stream",
     "text": [
      "Enter Any Number: 5\n",
      "This number is odd\n"
     ]
    }
   ],
   "source": [
    "num = int(input(\"Enter Any Number: \"))\n",
    "\n",
    "if num % 2 ==1: #odd\n",
    "    print(\"This number is odd\")\n",
    "    \n",
    "else:\n",
    "    print(\"This number is even\")\n"
   ]
  },
  {
   "cell_type": "markdown",
   "id": "b96ef1db",
   "metadata": {},
   "source": [
    "7.Write a program that finds the maximum of three numbers."
   ]
  },
  {
   "cell_type": "code",
   "execution_count": 10,
   "id": "3e9b7898",
   "metadata": {},
   "outputs": [
    {
     "name": "stdout",
     "output_type": "stream",
     "text": [
      "The maximum of 30, 60, and 50 is 60\n"
     ]
    }
   ],
   "source": [
    "a=30\n",
    "b=60\n",
    "c=50\n",
    "def find_max(a,b,c):\n",
    "    \n",
    "    max_num=a\n",
    "    if b>max_num:\n",
    "        max_num=b\n",
    "    if c>max_num:\n",
    "        max_num=c\n",
    "    return max_num\n",
    "\n",
    "max_value = find_max(a, b, c)\n",
    "print(f\"The maximum of {a}, {b}, and {c} is {max_value}\")"
   ]
  },
  {
   "cell_type": "markdown",
   "id": "ebf9d967",
   "metadata": {},
   "source": [
    "8.Write a program that determines if a year is a leap year or not."
   ]
  },
  {
   "cell_type": "code",
   "execution_count": 11,
   "id": "b4e62c82",
   "metadata": {},
   "outputs": [
    {
     "name": "stdout",
     "output_type": "stream",
     "text": [
      "Enter a year: 2024\n",
      "2024 is a leap year.\n"
     ]
    }
   ],
   "source": [
    "def is_leap_year(year):\n",
    "    if (year % 4==0 and year % 100 !=0) or (year % 400 ==0):\n",
    "        return True\n",
    "    else:\n",
    "        return False\n",
    "    \n",
    "# Taking user input for the year\n",
    "year_input = int(input(\"Enter a year: \"))\n",
    "\n",
    "# Checking if the year is a leap year\n",
    "if is_leap_year(year_input):\n",
    "    print(f\"{year_input} is a leap year.\")\n",
    "else:\n",
    "    print(f\"{year_input} is not a leap year.\")"
   ]
  },
  {
   "cell_type": "markdown",
   "id": "7faa9c64",
   "metadata": {},
   "source": [
    "9.Write a program that determines if a number is positive, negative, or zero."
   ]
  },
  {
   "cell_type": "code",
   "execution_count": 12,
   "id": "78c7f682",
   "metadata": {},
   "outputs": [
    {
     "name": "stdout",
     "output_type": "stream",
     "text": [
      "The number 0 is Zero.\n"
     ]
    }
   ],
   "source": [
    "num=0\n",
    "\n",
    "\n",
    "def defination_of_number(num):\n",
    "    if num > 0:\n",
    "        return \"Positive\"\n",
    "    if num < 0:\n",
    "        return \"Negative\"\n",
    "    else:\n",
    "        return \"Zero\"\n",
    "#result = defination_of_number(num)\n",
    "print(f\"The number {num} is {defination_of_number(num)}.\")\n",
    "    "
   ]
  },
  {
   "cell_type": "markdown",
   "id": "3d365e2b",
   "metadata": {},
   "source": [
    "10.Write a program that calculates the grade based on a given percentage."
   ]
  },
  {
   "cell_type": "code",
   "execution_count": 13,
   "id": "ccdc9300",
   "metadata": {},
   "outputs": [
    {
     "name": "stdout",
     "output_type": "stream",
     "text": [
      "Enter the grade : 35\n",
      "The grade for 35.0% is: F\n"
     ]
    }
   ],
   "source": [
    "def calculate_grade(percentage):\n",
    "    if percentage >=80:\n",
    "        return \"A+\"\n",
    "    elif percentage >=70:\n",
    "        return \"A\"\n",
    "    elif percentage >=60:\n",
    "        return \"B+\"\n",
    "    elif percentage >=50:\n",
    "        return \"B\"\n",
    "    else:\n",
    "        return \"F\"\n",
    "\n",
    "result=float(input(\"Enter the grade : \"))\n",
    "\n",
    "grade=calculate_grade(result)\n",
    "\n",
    "print(f\"The grade for {result}% is: {grade}\" )\n",
    "    "
   ]
  },
  {
   "cell_type": "markdown",
   "id": "c5d6822d",
   "metadata": {},
   "source": [
    "\n",
    "# FOR LOOP"
   ]
  },
  {
   "cell_type": "markdown",
   "id": "295a35fe",
   "metadata": {},
   "source": [
    "11.Write a program that prints the first `n` natural numbers."
   ]
  },
  {
   "cell_type": "code",
   "execution_count": 14,
   "id": "d68bbbdc",
   "metadata": {},
   "outputs": [
    {
     "name": "stdout",
     "output_type": "stream",
     "text": [
      "1\n",
      "2\n",
      "3\n",
      "4\n",
      "5\n",
      "6\n",
      "7\n",
      "8\n",
      "9\n",
      "10\n",
      "11\n",
      "12\n",
      "13\n",
      "14\n",
      "15\n"
     ]
    }
   ],
   "source": [
    "n=15\n",
    "\n",
    "for i in range(1,n+1):\n",
    "    print(i)"
   ]
  },
  {
   "cell_type": "markdown",
   "id": "f23396e8",
   "metadata": {},
   "source": [
    "12.Write a program that calculates the factorial of a number."
   ]
  },
  {
   "cell_type": "code",
   "execution_count": 15,
   "id": "aa31ddb4",
   "metadata": {},
   "outputs": [
    {
     "name": "stdout",
     "output_type": "stream",
     "text": [
      "The factorial of 4 is 24.\n"
     ]
    }
   ],
   "source": [
    "def factorial(n):\n",
    "    if n < 0:\n",
    "        return \"This number is negative not defined as factorial\"\n",
    "    if n == 1:\n",
    "        return 1\n",
    "    number=1\n",
    "    for i in range(1,n+1):\n",
    "        number *= i\n",
    "    return number\n",
    "n=4\n",
    "factorial_value = factorial(n)\n",
    "print(f\"The factorial of {n} is {factorial_value}.\")"
   ]
  },
  {
   "cell_type": "markdown",
   "id": "a8570a1a",
   "metadata": {},
   "source": [
    "13.Write a program that generates a Fibonacci sequence of length `n`."
   ]
  },
  {
   "cell_type": "code",
   "execution_count": 16,
   "id": "b31af9a8",
   "metadata": {},
   "outputs": [
    {
     "name": "stdout",
     "output_type": "stream",
     "text": [
      "The first 10 Fibonacci numbers are: [0, 1, 1, 2, 3, 5, 8, 13, 21, 34]\n"
     ]
    }
   ],
   "source": [
    "def fibonacci(n):\n",
    "    if n < 0 :\n",
    "        return \"Fibonacci sequance must be positive\"\n",
    "    \n",
    "    fibonacci_sequence=[0,1]\n",
    "    # Generate the remaining Fibonacci numbers using a loop\n",
    "    for i in range (2,n):\n",
    "        fibonacci_sequence.append(fibonacci_sequence[i-1] + fibonacci_sequence[i-2])\n",
    "    return fibonacci_sequence\n",
    "n=10\n",
    "fib_sequence=fibonacci(n)\n",
    "print(f\"The first {n} Fibonacci numbers are: {fib_sequence}\")\n",
    "    "
   ]
  },
  {
   "cell_type": "markdown",
   "id": "f272293d",
   "metadata": {},
   "source": [
    "14.Write a program that checks if a given number is prime or not."
   ]
  },
  {
   "cell_type": "code",
   "execution_count": 17,
   "id": "1d4f05de",
   "metadata": {},
   "outputs": [
    {
     "name": "stdout",
     "output_type": "stream",
     "text": [
      "Enter a number to check if it's prime: 7\n",
      "7 is a prime number.\n"
     ]
    }
   ],
   "source": [
    "def is_prime(number):\n",
    "    if number <= 1:\n",
    "        return False\n",
    "    elif number == 2:\n",
    "        return True\n",
    "    elif number % 2 == 0:\n",
    "        return False\n",
    "    else:\n",
    "        # Checking divisibility up to the square root of the number\n",
    "        for i in range(3, int(number**0.5) + 1):\n",
    "            if number % i == 0:\n",
    "                return False\n",
    "        return True\n",
    "\n",
    "# Taking user input for the number to check\n",
    "user_input = int(input(\"Enter a number to check if it's prime: \"))\n",
    "\n",
    "# Checking if the number is prime or not\n",
    "if is_prime(user_input):\n",
    "    print(f\"{user_input} is a prime number.\")\n",
    "else:\n",
    "    print(f\"{user_input} is not a prime number.\")\n"
   ]
  },
  {
   "cell_type": "markdown",
   "id": "3b831725",
   "metadata": {},
   "source": [
    "15.Write a program that prints the multiplication table of a given number."
   ]
  },
  {
   "cell_type": "markdown",
   "id": "abaa282a",
   "metadata": {},
   "source": [
    "# WHILE LOOP"
   ]
  },
  {
   "cell_type": "markdown",
   "id": "1da338ad",
   "metadata": {},
   "source": [
    "16.Write a program that finds the sum of all even numbers between 1 and `n`."
   ]
  },
  {
   "cell_type": "code",
   "execution_count": 18,
   "id": "5a39ead8",
   "metadata": {},
   "outputs": [
    {
     "name": "stdout",
     "output_type": "stream",
     "text": [
      "Enter a number (n): 8\n",
      "The sum of even numbers between 1 and 8 is: 20\n"
     ]
    }
   ],
   "source": [
    "def sum_of_even_numbers(n):\n",
    "    sum_even = 0\n",
    "    i = 2  # Starting from 2 as the first even number\n",
    "\n",
    "    while i <= n:\n",
    "        sum_even += i\n",
    "        i += 2  # Incrementing by 2 to get the next even number\n",
    "\n",
    "    return sum_even\n",
    "\n",
    "# Taking user input for the number n\n",
    "user_input = int(input(\"Enter a number (n): \"))\n",
    "\n",
    "# Finding the sum of even numbers between 1 and n using while loop\n",
    "result = sum_of_even_numbers(user_input)\n",
    "\n",
    "# Displaying the sum of even numbers\n",
    "print(f\"The sum of even numbers between 1 and {user_input} is: {result}\")\n"
   ]
  },
  {
   "cell_type": "markdown",
   "id": "df1a8a30",
   "metadata": {},
   "source": [
    "17.Write a program that reverses a given number."
   ]
  },
  {
   "cell_type": "markdown",
   "id": "b65534ef",
   "metadata": {},
   "source": [
    "18.Write a program that checks if a given string is a palindrome."
   ]
  },
  {
   "cell_type": "markdown",
   "id": "b562281b",
   "metadata": {},
   "source": [
    "19.Write a program that generates a random number and allows the user to guess it."
   ]
  },
  {
   "cell_type": "markdown",
   "id": "7f8dcb7a",
   "metadata": {},
   "source": [
    "20.Write a program that finds the greatest common divisor (GCD) of two numbers."
   ]
  },
  {
   "cell_type": "code",
   "execution_count": null,
   "id": "3c1cf234",
   "metadata": {},
   "outputs": [],
   "source": []
  }
 ],
 "metadata": {
  "kernelspec": {
   "display_name": "Python 3 (ipykernel)",
   "language": "python",
   "name": "python3"
  },
  "language_info": {
   "codemirror_mode": {
    "name": "ipython",
    "version": 3
   },
   "file_extension": ".py",
   "mimetype": "text/x-python",
   "name": "python",
   "nbconvert_exporter": "python",
   "pygments_lexer": "ipython3",
   "version": "3.11.4"
  }
 },
 "nbformat": 4,
 "nbformat_minor": 5
}
